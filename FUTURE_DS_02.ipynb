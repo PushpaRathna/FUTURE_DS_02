{
 "cells": [
  {
   "cell_type": "markdown",
   "id": "20e0593c-862f-4369-90c2-a541fd394543",
   "metadata": {},
   "source": [
    "# 1.**Importing libraries and Dataset**"
   ]
  },
  {
   "cell_type": "code",
   "execution_count": 3,
   "id": "324ff7b3-9965-4466-92a7-34956876ce25",
   "metadata": {},
   "outputs": [],
   "source": [
    "import pandas as pd\n",
    "import nltk\n",
    "from nltk.corpus import stopwords\n",
    "from sklearn.feature_extraction.text import TfidfVectorizer\n",
    "from sklearn.cluster import KMeans\n",
    "from nltk.stem import WordNetLemmatizer\n",
    "from nltk.sentiment.vader import SentimentIntensityAnalyzer\n",
    "import matplotlib.pyplot as plt\n",
    "import seaborn as sns"
   ]
  },
  {
   "cell_type": "code",
   "execution_count": 5,
   "id": "7a75a78c-ee54-4f0d-927f-d22828554e33",
   "metadata": {},
   "outputs": [],
   "source": [
    "# Load dataset\n",
    "df = pd.read_csv(r'D:\\Future Interns\\customer_support_tickets.csv')"
   ]
  },
  {
   "cell_type": "code",
   "execution_count": 7,
   "id": "60723bbc-6eca-4f3c-90cb-9132e575e654",
   "metadata": {},
   "outputs": [
    {
     "name": "stderr",
     "output_type": "stream",
     "text": [
      "C:\\Users\\User\\AppData\\Local\\Temp\\ipykernel_19388\\2286601528.py:3: FutureWarning: A value is trying to be set on a copy of a DataFrame or Series through chained assignment using an inplace method.\n",
      "The behavior will change in pandas 3.0. This inplace method will never work because the intermediate object on which we are setting values always behaves as a copy.\n",
      "\n",
      "For example, when doing 'df[col].method(value, inplace=True)', try using 'df.method({col: value}, inplace=True)' or df[col] = df[col].method(value) instead, to perform the operation inplace on the original object.\n",
      "\n",
      "\n",
      "  df['Ticket Description'].fillna('', inplace=True)\n"
     ]
    }
   ],
   "source": [
    "# Data cleaning\n",
    "df.drop_duplicates(inplace=True)\n",
    "df['Ticket Description'].fillna('', inplace=True)"
   ]
  },
  {
   "cell_type": "code",
   "execution_count": 9,
   "id": "acf4ae32-ea2f-4308-b360-5934f79c5d59",
   "metadata": {},
   "outputs": [
    {
     "name": "stdout",
     "output_type": "stream",
     "text": [
      "<class 'pandas.core.frame.DataFrame'>\n",
      "RangeIndex: 8469 entries, 0 to 8468\n",
      "Data columns (total 17 columns):\n",
      " #   Column                        Non-Null Count  Dtype  \n",
      "---  ------                        --------------  -----  \n",
      " 0   Ticket ID                     8469 non-null   int64  \n",
      " 1   Customer Name                 8469 non-null   object \n",
      " 2   Customer Email                8469 non-null   object \n",
      " 3   Customer Age                  8469 non-null   int64  \n",
      " 4   Customer Gender               8469 non-null   object \n",
      " 5   Product Purchased             8469 non-null   object \n",
      " 6   Date of Purchase              8469 non-null   object \n",
      " 7   Ticket Type                   8469 non-null   object \n",
      " 8   Ticket Subject                8469 non-null   object \n",
      " 9   Ticket Description            8469 non-null   object \n",
      " 10  Ticket Status                 8469 non-null   object \n",
      " 11  Resolution                    2769 non-null   object \n",
      " 12  Ticket Priority               8469 non-null   object \n",
      " 13  Ticket Channel                8469 non-null   object \n",
      " 14  First Response Time           5650 non-null   object \n",
      " 15  Time to Resolution            2769 non-null   object \n",
      " 16  Customer Satisfaction Rating  2769 non-null   float64\n",
      "dtypes: float64(1), int64(2), object(14)\n",
      "memory usage: 1.1+ MB\n"
     ]
    }
   ],
   "source": [
    "df.info()"
   ]
  },
  {
   "cell_type": "markdown",
   "id": "f41f486f-02f6-447d-9447-22f56ed814ef",
   "metadata": {},
   "source": [
    "# 2.**Text Preprocessing**"
   ]
  },
  {
   "cell_type": "code",
   "execution_count": 11,
   "id": "26409e8f-8fa3-4dad-ac32-0601301c8757",
   "metadata": {},
   "outputs": [
    {
     "name": "stderr",
     "output_type": "stream",
     "text": [
      "[nltk_data] Downloading package stopwords to\n",
      "[nltk_data]     C:\\Users\\User\\AppData\\Roaming\\nltk_data...\n",
      "[nltk_data]   Package stopwords is already up-to-date!\n",
      "[nltk_data] Downloading package wordnet to\n",
      "[nltk_data]     C:\\Users\\User\\AppData\\Roaming\\nltk_data...\n",
      "[nltk_data]   Package wordnet is already up-to-date!\n"
     ]
    }
   ],
   "source": [
    "nltk.download('stopwords')\n",
    "nltk.download('wordnet')\n",
    "stop_words = set(stopwords.words('english'))\n",
    "lemmatizer = WordNetLemmatizer()"
   ]
  },
  {
   "cell_type": "code",
   "execution_count": 14,
   "id": "05ce5152-4a99-4992-89c8-ec7cb09e348f",
   "metadata": {},
   "outputs": [],
   "source": [
    "def clean_text(text):\n",
    "    # Convert text to lowercase\n",
    "    text = text.lower()\n",
    "    # Remove non-alphanumeric characters and keep spaces\n",
    "    text = ''.join(e for e in text if e.isalnum() or e.isspace())\n",
    "    words = text.split()\n",
    "    # Lemmatize and remove stopwords\n",
    "    words = [lemmatizer.lemmatize(word) for word in words if word not in stop_words]\n",
    "    return ' '.join(words)"
   ]
  },
  {
   "cell_type": "code",
   "execution_count": 16,
   "id": "bc93685e-a528-4503-8e85-5c8acf22fe4f",
   "metadata": {},
   "outputs": [],
   "source": [
    "df['cleaned_description'] = df['Ticket Description'].apply(clean_text)"
   ]
  },
  {
   "cell_type": "markdown",
   "id": "6a9f6633-ad26-4d0b-95fe-e82652ba841d",
   "metadata": {},
   "source": [
    "# 3.**EDA**"
   ]
  },
  {
   "cell_type": "code",
   "execution_count": 48,
   "id": "179fe208-baa3-477e-9635-5cc0552bcc5e",
   "metadata": {},
   "outputs": [],
   "source": [
    "df['Date of Purchase'] = pd.to_datetime(df['Date of Purchase'], errors='coerce')"
   ]
  },
  {
   "cell_type": "code",
   "execution_count": 50,
   "id": "9ffec0b9-8cd1-44c3-8ff7-f50e73ef6d50",
   "metadata": {},
   "outputs": [],
   "source": [
    "# Set the 'Date of Purchase' column as the index for resampling\n",
    "df.set_index('Date of Purchase', inplace=True)"
   ]
  },
  {
   "cell_type": "code",
   "execution_count": 52,
   "id": "35a9e080-af1a-4d16-928f-301fab9b6e5f",
   "metadata": {},
   "outputs": [
    {
     "name": "stdout",
     "output_type": "stream",
     "text": [
      "Date of Purchase\n",
      "2020-01-31    377\n",
      "2020-02-29    376\n",
      "2020-03-31    324\n",
      "2020-04-30    354\n",
      "2020-05-31    322\n",
      "Freq: ME, dtype: int64\n"
     ]
    },
    {
     "name": "stderr",
     "output_type": "stream",
     "text": [
      "C:\\Users\\User\\AppData\\Local\\Temp\\ipykernel_19388\\4065931201.py:1: FutureWarning: 'M' is deprecated and will be removed in a future version, please use 'ME' instead.\n",
      "  issue_trends = df.resample('M').size()\n"
     ]
    }
   ],
   "source": [
    "issue_trends = df.resample('M').size()\n",
    "print(issue_trends.head())"
   ]
  },
  {
   "cell_type": "code",
   "execution_count": 54,
   "id": "2f85b13b-6936-47f0-8884-14fd63001caf",
   "metadata": {},
   "outputs": [
    {
     "data": {
      "image/png": "[encoded data removed]",
      "text/plain": [
       "<Figure size 1000x600 with 1 Axes>"
      ]
     },
     "metadata": {},
     "output_type": "display_data"
    }
   ],
   "source": [
    "plt.figure(figsize=(10, 6))\n",
    "sns.lineplot(x=issue_trends.index, y=issue_trends.values)\n",
    "plt.title('Monthly Issue Trends')\n",
    "plt.xlabel('Month')\n",
    "plt.ylabel('Number of Issues')\n",
    "plt.xticks(rotation=45)  # Rotate x-axis labels for better readability\n",
    "plt.show()"
   ]
  },
  {
   "cell_type": "code",
   "execution_count": 56,
   "id": "c1e7f65c-e3a4-4ff3-ae63-06404d9f32a7",
   "metadata": {},
   "outputs": [
    {
     "name": "stdout",
     "output_type": "stream",
     "text": [
      "\n",
      "Top 5 Most Frequent Ticket Categories:\n",
      "category\n",
      "3    4302\n",
      "1    1385\n",
      "4    1241\n",
      "0    1069\n",
      "2     472\n",
      "Name: count, dtype: int64\n"
     ]
    }
   ],
   "source": [
    "most_frequent_categories = df['category'].value_counts().head(5)\n",
    "print(\"\\nTop 5 Most Frequent Ticket Categories:\")\n",
    "print(most_frequent_categories)"
   ]
  },
  {
   "cell_type": "code",
   "execution_count": 62,
   "id": "8ab20ae6-434c-4576-b445-1a98e2def00f",
   "metadata": {},
   "outputs": [
    {
     "name": "stdout",
     "output_type": "stream",
     "text": [
      "\n",
      "Average Sentiment by Category:\n",
      "category\n",
      "0    0.239955\n",
      "1    0.351468\n",
      "2    0.098906\n",
      "3    0.420539\n",
      "4    0.434216\n",
      "Name: sentiment, dtype: float64\n"
     ]
    }
   ],
   "source": [
    "avg_sentiment_by_category = df.groupby('category')['sentiment'].mean()\n",
    "\n",
    "# Print average sentiment by category\n",
    "print(\"\\nAverage Sentiment by Category:\")\n",
    "print(avg_sentiment_by_category)"
   ]
  },
  {
   "cell_type": "markdown",
   "id": "158ac8bc-a12c-40a4-b201-e54d2ec1bc58",
   "metadata": {},
   "source": [
    "# 4.**Text categorization using TF-IDF + KMeans clustering**"
   ]
  },
  {
   "cell_type": "code",
   "execution_count": 18,
   "id": "1e95fde2-bf32-48f0-b565-a73a42015141",
   "metadata": {},
   "outputs": [],
   "source": [
    "vectorizer = TfidfVectorizer(max_features=1000)\n",
    "X = vectorizer.fit_transform(df['cleaned_description'])"
   ]
  },
  {
   "cell_type": "code",
   "execution_count": 21,
   "id": "0b17bd0e-c2e0-448b-bd64-680c1492ced4",
   "metadata": {},
   "outputs": [],
   "source": [
    "# Clustering (KMeans)\n",
    "kmeans = KMeans(n_clusters=5, random_state=42)\n",
    "df['category'] = kmeans.fit_predict(X)"
   ]
  },
  {
   "cell_type": "code",
   "execution_count": 23,
   "id": "ced16b4f-7b81-4852-b733-5fc08b936cec",
   "metadata": {},
   "outputs": [
    {
     "name": "stdout",
     "output_type": "stream",
     "text": [
      "   Ticket ID  category\n",
      "0          1         1\n",
      "1          2         3\n",
      "2          3         4\n",
      "3          4         3\n",
      "4          5         3\n"
     ]
    }
   ],
   "source": [
    "# After clustering, display the first few rows with their assigned category\n",
    "print(df[['Ticket ID', 'category']].head())"
   ]
  },
  {
   "cell_type": "code",
   "execution_count": 25,
   "id": "7af2617a-300c-4ea1-b71a-0e14db6fc693",
   "metadata": {},
   "outputs": [
    {
     "name": "stdout",
     "output_type": "stream",
     "text": [
      "category\n",
      "3    4302\n",
      "1    1385\n",
      "4    1241\n",
      "0    1069\n",
      "2     472\n",
      "Name: count, dtype: int64\n"
     ]
    }
   ],
   "source": [
    "print(df['category'].value_counts())"
   ]
  },
  {
   "cell_type": "code",
   "execution_count": 27,
   "id": "b8454aa1-076a-4ee3-a670-22cdc957546d",
   "metadata": {},
   "outputs": [],
   "source": [
    "# Convert Time to Resolution to numeric\n",
    "def convert_to_numeric(time_str):\n",
    "    try:\n",
    "        return float(time_str)\n",
    "    except:\n",
    "        return None "
   ]
  },
  {
   "cell_type": "code",
   "execution_count": 29,
   "id": "f36a4fb1-b15b-4055-8630-b80153b6c3a4",
   "metadata": {},
   "outputs": [
    {
     "name": "stdout",
     "output_type": "stream",
     "text": [
      "0                    NaN\n",
      "1                    NaN\n",
      "2    2023-06-01 18:05:38\n",
      "3    2023-06-01 01:57:40\n",
      "4    2023-06-01 19:53:42\n",
      "Name: Time to Resolution, dtype: object\n"
     ]
    }
   ],
   "source": [
    "print(df['Time to Resolution'].head())"
   ]
  },
  {
   "cell_type": "markdown",
   "id": "b98f1471-046b-490e-8576-d25a20b818b8",
   "metadata": {},
   "source": [
    "# 5.**Sentiment Analysis**"
   ]
  },
  {
   "cell_type": "code",
   "execution_count": 40,
   "id": "87f878a7-7d58-4725-9c79-0ffab70e9c42",
   "metadata": {},
   "outputs": [
    {
     "name": "stderr",
     "output_type": "stream",
     "text": [
      "[nltk_data] Downloading package vader_lexicon to\n",
      "[nltk_data]     C:\\Users\\User\\AppData\\Roaming\\nltk_data...\n",
      "[nltk_data]   Package vader_lexicon is already up-to-date!\n"
     ]
    }
   ],
   "source": [
    "nltk.download('vader_lexicon')\n",
    "sia = SentimentIntensityAnalyzer()\n",
    "df['sentiment'] = df['cleaned_description'].apply(lambda x: sia.polarity_scores(x)['compound'])"
   ]
  },
  {
   "cell_type": "code",
   "execution_count": 42,
   "id": "d5b9fe60-1bc8-4b89-8936-8a9b3473f404",
   "metadata": {},
   "outputs": [
    {
     "name": "stdout",
     "output_type": "stream",
     "text": [
      "   Ticket ID  sentiment\n",
      "0          1     0.7906\n",
      "1          2     0.6597\n",
      "2          3     0.1689\n",
      "3          4     0.8885\n",
      "4          5     0.4404\n"
     ]
    }
   ],
   "source": [
    "print(df[['Ticket ID', 'sentiment']].head())"
   ]
  },
  {
   "cell_type": "markdown",
   "id": "04573726-d37e-4bb5-a122-99078239e749",
   "metadata": {},
   "source": [
    "# 5.1.**Visualization of sentiment distribution**"
   ]
  },
  {
   "cell_type": "code",
   "execution_count": 44,
   "id": "6c16d41a-c535-4442-b74b-21f894040ca1",
   "metadata": {},
   "outputs": [
    {
     "data": {
      "image/png": "[encoded data removed]",
      "text/plain": [
       "<Figure size 1000x600 with 1 Axes>"
      ]
     },
     "metadata": {},
     "output_type": "display_data"
    }
   ],
   "source": [
    "plt.figure(figsize=(10, 6))\n",
    "sns.histplot(df['sentiment'], kde=True)\n",
    "plt.title('Sentiment Distribution of Tickets')\n",
    "plt.show()"
   ]
  },
  {
   "cell_type": "markdown",
   "id": "d90a073c-fe61-405c-8812-34bb94c8168d",
   "metadata": {},
   "source": [
    "# 6.**Summary Report Generation**"
   ]
  },
  {
   "cell_type": "code",
   "execution_count": 65,
   "id": "a19336a2-58b9-4a91-b2de-4ba42043fefe",
   "metadata": {},
   "outputs": [],
   "source": [
    "summary_report = {\n",
    "    'Frequently Reported Problems': df['Ticket Subject'].value_counts().head(5),\n",
    "    'Frequently Reported Categories': most_frequent_categories,\n",
    "    'Average Resolution Time by Category': avg_resolution_time,\n",
    "    'Average Sentiment by Category': avg_sentiment_by_category,\n",
    "    'Monthly Issue Trends': issue_trends,\n",
    "}"
   ]
  },
  {
   "cell_type": "code",
   "execution_count": 71,
   "id": "e33a5a7c-b0b7-4fe4-b2cb-c27643fee828",
   "metadata": {},
   "outputs": [
    {
     "name": "stdout",
     "output_type": "stream",
     "text": [
      "\n",
      "Summary Report on Customer Support Tickets\n",
      "\n",
      "Frequently Reported Problems:\n",
      "Ticket Subject\n",
      "Refund request           576\n",
      "Software bug             574\n",
      "Product compatibility    567\n",
      "Delivery problem         561\n",
      "Hardware issue           547\n",
      "Name: count, dtype: int64\n",
      "\n",
      "Frequently Reported Categories:\n",
      "category\n",
      "3    4302\n",
      "1    1385\n",
      "4    1241\n",
      "0    1069\n",
      "2     472\n",
      "Name: count, dtype: int64\n",
      "\n",
      "Average Sentiment by Category:\n",
      "category\n",
      "0    0.239955\n",
      "1    0.351468\n",
      "2    0.098906\n",
      "3    0.420539\n",
      "4    0.434216\n",
      "Name: sentiment, dtype: float64\n"
     ]
    }
   ],
   "source": [
    "print(\"\\nSummary Report on Customer Support Tickets\\n\")\n",
    "print(\"Frequently Reported Problems:\")\n",
    "print(df['Ticket Subject'].value_counts().head(5))\n",
    "print(\"\\nFrequently Reported Categories:\")\n",
    "print(most_frequent_categories)\n",
    "print(\"\\nAverage Sentiment by Category:\")\n",
    "print(avg_sentiment_by_category)"
   ]
  },
  {
   "cell_type": "code",
   "execution_count": 73,
   "id": "38a8b36e-c93d-459a-b1fc-b1489e5d1909",
   "metadata": {},
   "outputs": [
    {
     "name": "stdout",
     "output_type": "stream",
     "text": [
      "\n",
      "Monthly Issue Trends:\n",
      "Date of Purchase\n",
      "2020-01-31    377\n",
      "2020-02-29    376\n",
      "2020-03-31    324\n",
      "2020-04-30    354\n",
      "2020-05-31    322\n",
      "2020-06-30    358\n",
      "2020-07-31    366\n",
      "2020-08-31    327\n",
      "2020-09-30    369\n",
      "2020-10-31    373\n",
      "2020-11-30    340\n",
      "2020-12-31    350\n",
      "2021-01-31    359\n",
      "2021-02-28    339\n",
      "2021-03-31    348\n",
      "2021-04-30    364\n",
      "2021-05-31    379\n",
      "2021-06-30    320\n",
      "2021-07-31    361\n",
      "2021-08-31    364\n",
      "2021-09-30    327\n",
      "2021-10-31    362\n",
      "2021-11-30    364\n",
      "2021-12-31    346\n",
      "Freq: ME, dtype: int64\n"
     ]
    }
   ],
   "source": [
    "print(\"\\nMonthly Issue Trends:\")\n",
    "print(issue_trends)"
   ]
  },
  {
   "cell_type": "markdown",
   "id": "6893076e-f9c0-437e-8b84-8f84aceb1787",
   "metadata": {},
   "source": [
    "# 7.**Recommendations**"
   ]
  },
  {
   "cell_type": "code",
   "execution_count": 86,
   "id": "851b962b-6d66-4a38-b5b8-087d10780776",
   "metadata": {},
   "outputs": [],
   "source": [
    "recommendations = []"
   ]
  },
  {
   "cell_type": "code",
   "execution_count": 88,
   "id": "e4d483cb-d74b-4313-95de-d0e5f98ac98c",
   "metadata": {},
   "outputs": [],
   "source": [
    "# Recommendation 1: Categories with long resolution time\n",
    "long_resolution_issues = avg_resolution_time[avg_resolution_time > avg_resolution_time.median()]\n",
    "if not long_resolution_issues.empty:\n",
    "    recommendations.append(\"Consider allocating more resources to categories with high resolution times, such as: \" + ', '.join(long_resolution_issues.index.astype(str)))\n"
   ]
  },
  {
   "cell_type": "code",
   "execution_count": 90,
   "id": "aee9d4ce-b9e4-482c-a4b2-079ab9a26929",
   "metadata": {},
   "outputs": [],
   "source": [
    "# Recommendation 2: Categories with negative sentiment\n",
    "negative_sentiment_categories = avg_sentiment_by_category[avg_sentiment_by_category < 0]\n",
    "if not negative_sentiment_categories.empty:\n",
    "    recommendations.append(\"Focus on improving customer experience in categories with negative sentiment, such as: \" + ', '.join(negative_sentiment_categories.index.astype(str)))\n"
   ]
  },
  {
   "cell_type": "code",
   "execution_count": 94,
   "id": "e5895c49-c2be-40b1-9980-e65343a71aa0",
   "metadata": {},
   "outputs": [],
   "source": [
    "# Recommendation 3: Increasing issue trends\n",
    "increasing_trend = issue_trends[issue_trends.diff() > 0]\n",
    "if not increasing_trend.empty:\n",
    "    recommendations.append(\"There is an increasing trend in support tickets during these months: \" + ', '.join(increasing_trend.index.strftime('%Y-%m').tolist()))\n",
    "\n"
   ]
  },
  {
   "cell_type": "code",
   "execution_count": 98,
   "id": "3d1e6b8d-19aa-43a4-97ec-b46bbdf96918",
   "metadata": {},
   "outputs": [
    {
     "name": "stdout",
     "output_type": "stream",
     "text": [
      "\n",
      "Recommended Process Improvements:\n",
      "- There is an increasing trend in support tickets during these months: 2020-04, 2020-06, 2020-07, 2020-09, 2020-10, 2020-12, 2021-01, 2021-03, 2021-04, 2021-05, 2021-07, 2021-08, 2021-10, 2021-11\n"
     ]
    }
   ],
   "source": [
    "# Display the recommendations\n",
    "print(\"\\nRecommended Process Improvements:\")\n",
    "for recommendation in recommendations:\n",
    "    print(f\"- {recommendation}\")"
   ]
  },
  {
   "cell_type": "code",
   "execution_count": null,
   "id": "5fb17524-22d8-4143-9a92-49fa538d3ed0",
   "metadata": {},
   "outputs": [],
   "source": []
  }
 ],
 "metadata": {
  "kernelspec": {
   "display_name": "Python 3 (ipykernel)",
   "language": "python",
   "name": "python3"
  },
  "language_info": {
   "codemirror_mode": {
    "name": "ipython",
    "version": 3
   },
   "file_extension": ".py",
   "mimetype": "text/x-python",
   "name": "python",
   "nbconvert_exporter": "python",
   "pygments_lexer": "ipython3",
   "version": "3.12.4"
  }
 },
 "nbformat": 4,
 "nbformat_minor": 5
}
